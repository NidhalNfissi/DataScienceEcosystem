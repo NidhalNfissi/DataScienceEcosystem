{
 "cells": [
  {
   "cell_type": "markdown",
   "id": "8d633889",
   "metadata": {},
   "source": [
    "# Data Science Tools and Ecosystem"
   ]
  },
  {
   "cell_type": "markdown",
   "id": "3166963f",
   "metadata": {},
   "source": [
    "In this notebook, we will provide a summary of the various tools and technologies used in data science, as well as explore the broader ecosystem that supports data science workflows."
   ]
  },
  {
   "cell_type": "markdown",
   "id": "e1f0798f",
   "metadata": {},
   "source": [
    "**Objectives:**\n",
    "\n",
    "- List popular languages for Data Science\n",
    "- Identify common libraries used in Data Science\n",
    "- Describe popular tools for developing Data Science projects\n",
    "- Evaluate arithmetic expressions in Python\n",
    "- Convert between units of time using Python\n"
   ]
  },
  {
   "cell_type": "markdown",
   "id": "0ecec946",
   "metadata": {},
   "source": [
    "Some of the popular languages that Data Scientists use are:\n",
    "\n",
    "1. Python\n",
    "\n",
    "2. R\n",
    "\n",
    "3. SQL\n",
    "\n",
    "4. Java"
   ]
  },
  {
   "cell_type": "markdown",
   "id": "a92a01e4",
   "metadata": {},
   "source": [
    "Some of the commonly used libraries used by Data Scientists include:\n",
    "\n",
    "1. NumPy\n",
    "2. Pandas\n",
    "3. Matplotlib\n",
    "4. Scikit-learn"
   ]
  },
  {
   "cell_type": "markdown",
   "id": "08a5ee40",
   "metadata": {},
   "source": [
    "| Data Science Tools |\n",
    "| --- |\n",
    "| Jupyter |\n",
    "| Spyder |\n",
    "| RStudio |\n"
   ]
  },
  {
   "cell_type": "markdown",
   "id": "4cea4877",
   "metadata": {},
   "source": [
    "### Below are a few examples of evaluating arithmetic expressions in Python."
   ]
  },
  {
   "cell_type": "code",
   "execution_count": 1,
   "id": "98a0dd32",
   "metadata": {},
   "outputs": [
    {
     "data": {
      "text/plain": [
       "17"
      ]
     },
     "execution_count": 1,
     "metadata": {},
     "output_type": "execute_result"
    }
   ],
   "source": [
    "# This is a simple arithmetic expression to multiply then add integers.\n",
    "(3*4)+5"
   ]
  },
  {
   "cell_type": "code",
   "execution_count": 2,
   "id": "6d72c386",
   "metadata": {},
   "outputs": [
    {
     "data": {
      "text/plain": [
       "3.3333333333333335"
      ]
     },
     "execution_count": 2,
     "metadata": {},
     "output_type": "execute_result"
    }
   ],
   "source": [
    "# This will convert 200 minutes to hours by dividing by 60.\n",
    "200 / 60"
   ]
  },
  {
   "cell_type": "markdown",
   "id": "7d7073cd",
   "metadata": {},
   "source": [
    "## Author\n",
    "Nidhal Nfissi"
   ]
  },
  {
   "cell_type": "code",
   "execution_count": null,
   "id": "d4f58531",
   "metadata": {},
   "outputs": [],
   "source": []
  }
 ],
 "metadata": {
  "kernelspec": {
   "display_name": "Python 3 (ipykernel)",
   "language": "python",
   "name": "python3"
  },
  "language_info": {
   "codemirror_mode": {
    "name": "ipython",
    "version": 3
   },
   "file_extension": ".py",
   "mimetype": "text/x-python",
   "name": "python",
   "nbconvert_exporter": "python",
   "pygments_lexer": "ipython3",
   "version": "3.9.13"
  }
 },
 "nbformat": 4,
 "nbformat_minor": 5
}
